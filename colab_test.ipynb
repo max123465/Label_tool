{
 "cells": [
  {
   "cell_type": "code",
   "execution_count": 1,
   "id": "8fc9882c",
   "metadata": {},
   "outputs": [
    {
     "name": "stdout",
     "output_type": "stream",
     "text": [
      "hello colab\n"
     ]
    }
   ],
   "source": [
    "import numpy\n",
    "print(\"hello colab\")"
   ]
  },
  {
   "cell_type": "code",
   "execution_count": null,
   "id": "68693644",
   "metadata": {},
   "outputs": [],
   "source": []
  }
 ],
 "metadata": {
  "kernelspec": {
   "display_name": "Python 3 (ipykernel)",
   "language": "python",
   "name": "python3"
  },
  "language_info": {
   "codemirror_mode": {
    "name": "ipython",
    "version": 3
   },
   "file_extension": ".py",
   "mimetype": "text/x-python",
   "name": "python",
   "nbconvert_exporter": "python",
   "pygments_lexer": "ipython3",
   "version": "3.11.3"
  }
 },
 "nbformat": 4,
 "nbformat_minor": 5
}
